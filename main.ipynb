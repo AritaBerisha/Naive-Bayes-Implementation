{
 "cells": [
  {
   "attachments": {},
   "cell_type": "markdown",
   "metadata": {},
   "source": [
    "# Naive Bayes Classifier\n",
    "The NaiveBayesClassifier class is an implementation of the Naive Bayes algorithm for categorical target variables. It provides methods to fit the classifier to a training dataset, calculate class and conditional probabilities, and make predictions on a test dataset."
   ]
  },
  {
   "attachments": {},
   "cell_type": "markdown",
   "metadata": {},
   "source": [
    "### Libraries"
   ]
  },
  {
   "attachments": {},
   "cell_type": "markdown",
   "metadata": {},
   "source": [
    "\n",
    "\n",
    "- `pandas`: It was used to read and process the dataset stored in a CSV file. pandas provides efficient data structures and functions for handling tabular data, making it suitable for working with datasets.\n",
    "\n",
    "- `collections.defaultdict`: It was used to initialize the class_counts and conditional_counts dictionaries with default integer values. This allows counting and accumulating values in dictionaries without the need for explicit initialization.\n",
    "\n",
    "- `train_test_split`: was used to divide the dataset into separate training and testing sets, allowing the model to be trained on a portion of the data and evaluated on unseen data."
   ]
  },
  {
   "cell_type": "code",
   "execution_count": 1,
   "metadata": {},
   "outputs": [],
   "source": [
    "import pandas as pd\n",
    "from collections import defaultdict\n",
    "from sklearn.model_selection import train_test_split"
   ]
  },
  {
   "attachments": {},
   "cell_type": "markdown",
   "metadata": {},
   "source": [
    "### Naive Bayes Classifier Class"
   ]
  },
  {
   "cell_type": "code",
   "execution_count": 2,
   "metadata": {},
   "outputs": [],
   "source": [
    "class NaiveBayesClassifier:\n",
    "    def __init__(self, laplace_smoothing=True):\n",
    "        \"\"\"\n",
    "        Naive Bayes Classifier initialization.\n",
    "\n",
    "        Parameters:\n",
    "            laplace_smoothing (bool): Flag indicating whether to apply Laplace smoothing (default: False).\n",
    "        \"\"\"\n",
    "        self.class_probabilities = {}\n",
    "        self.conditional_probabilities = {}\n",
    "        self.class_counts = defaultdict(int)\n",
    "        self.conditional_counts = defaultdict(lambda: defaultdict(int))\n",
    "        self.target_given_attribute = {}\n",
    "        self.laplace_smoothing = laplace_smoothing\n",
    "    \n",
    "    def fit(self, X, y):\n",
    "        \"\"\"\n",
    "        Fit the Naive Bayes Classifier to the training data.\n",
    "\n",
    "        Parameters:\n",
    "            X (pandas.DataFrame): Training features.\n",
    "            y (pandas.Series): Target variable.\n",
    "\n",
    "        Returns:\n",
    "            None\n",
    "        \"\"\"\n",
    "        self.calculate_class_probabilities(y)\n",
    "        self.calculate_conditional_probabilities(X, y)\n",
    "    \n",
    "    def calculate_class_probabilities(self, y):\n",
    "        \"\"\"\n",
    "        Calculate class probabilities.\n",
    "\n",
    "        Parameters:\n",
    "            y (pandas.Series): Target variable.\n",
    "\n",
    "        Returns:\n",
    "            None\n",
    "        \"\"\"\n",
    "        total_examples = len(y)\n",
    "\n",
    "        for value in y:\n",
    "            self.class_counts[value] += 1\n",
    "\n",
    "        for class_key, class_count in self.class_counts.items():\n",
    "            self.class_probabilities[class_key] = class_count / total_examples\n",
    "    \n",
    "    def calculate_conditional_probabilities(self, X, y):\n",
    "        \"\"\"\n",
    "        Calculate conditional probabilities with Laplace correction.\n",
    "\n",
    "        Parameters:\n",
    "            X (pandas.DataFrame): Training features.\n",
    "            y (pandas.Series): Target variable.\n",
    "\n",
    "        Returns:\n",
    "            None\n",
    "        \"\"\"\n",
    "        for index, row in X.iterrows():\n",
    "            target_value = y[index]\n",
    "\n",
    "            for column_name, column_value in row.items():\n",
    "                conditional_key = str(column_value) + '|' + str(target_value)\n",
    "                self.conditional_counts[column_name][conditional_key] += 1\n",
    "\n",
    "                if self.laplace_smoothing:\n",
    "                    unseen_key = '*unseen*' + '|' + str(target_value)\n",
    "                    self.conditional_counts[column_name][unseen_key] += 1\n",
    "\n",
    "        for column_name, conditional_count in self.conditional_counts.items():\n",
    "            self.conditional_probabilities[column_name] = {}\n",
    "            for conditional_key, count in conditional_count.items():\n",
    "                class_key = conditional_key.split('|')[1]\n",
    "                if self.laplace_smoothing:\n",
    "                    self.conditional_probabilities[column_name][conditional_key] = (count + 1) / (self.class_counts[class_key] + 1)\n",
    "                else:\n",
    "                    self.conditional_probabilities[column_name][conditional_key] = count / self.class_counts[class_key]\n",
    "    \n",
    "    def predict(self, X):\n",
    "        \"\"\"\n",
    "        Predict the target variable for new data.\n",
    "\n",
    "        Parameters:\n",
    "            X (pandas.DataFrame): New data features.\n",
    "\n",
    "        Returns:\n",
    "            list: Predicted target variable values.\n",
    "        \"\"\"\n",
    "        predictions = []\n",
    "\n",
    "        for _, row in X.iterrows():\n",
    "            target_given_attribute = self.class_probabilities.copy()\n",
    "\n",
    "            for column_name, value in row.items():\n",
    "                for class_key in target_given_attribute:\n",
    "                    conditional_key = str(value) + '|' + class_key\n",
    "\n",
    "                    if conditional_key in self.conditional_probabilities[column_name]:\n",
    "                        target_given_attribute[class_key] *= self.conditional_probabilities[column_name][conditional_key]\n",
    "\n",
    "            predicted_class = max(target_given_attribute, key=target_given_attribute.get)\n",
    "            predictions.append(predicted_class)\n",
    "        \n",
    "        self.target_given_attribute = target_given_attribute\n",
    "\n",
    "        return predictions\n"
   ]
  },
  {
   "attachments": {},
   "cell_type": "markdown",
   "metadata": {},
   "source": [
    "### Helper Function\n",
    "\n",
    "The *calculate_accuracy* function is used to measure the accuracy of predicted labels compared to the actual labels. It takes two lists of labels as input and returns the accuracy as a floating-point value between 0 and 1. The function counts the number of correct predictions and divides it by the total number of labels to calculate the accuracy."
   ]
  },
  {
   "cell_type": "code",
   "execution_count": 3,
   "metadata": {},
   "outputs": [],
   "source": [
    "def calculate_accuracy(actual_labels, predicted_labels):\n",
    "    \"\"\"\n",
    "    Calculate the accuracy of predicted labels compared to actual labels.\n",
    "\n",
    "    Args:\n",
    "        actual_labels (list): The list of actual labels.\n",
    "        predicted_labels (list): The list of predicted labels.\n",
    "\n",
    "    Returns:\n",
    "        float: The accuracy as a value between 0 and 1.\n",
    "    \"\"\"\n",
    "    correct_count = 0\n",
    "    total_count = len(actual_labels)\n",
    "\n",
    "    for actual, predicted in zip(actual_labels, predicted_labels):\n",
    "        if actual == predicted:\n",
    "            correct_count += 1\n",
    "\n",
    "    accuracy = correct_count / total_count\n",
    "    return accuracy\n"
   ]
  },
  {
   "attachments": {},
   "cell_type": "markdown",
   "metadata": {},
   "source": [
    "### Execution"
   ]
  },
  {
   "attachments": {},
   "cell_type": "markdown",
   "metadata": {},
   "source": [
    "#### Test Dataset \n",
    "\n",
    "The dataset provided by the slides is a weather dataset that contains information about various weather conditions and whether or not outdoor activities can be played. It includes the following features:\n",
    "\n",
    "- *Outlook*: Describes the outlook of the weather (Sunny, Overcast, Rainy).\n",
    "- *Temp*: Represents the temperature (Hot, Mild, Cool).\n",
    "- *Humidity*: Indicates the humidity level (High, Normal).\n",
    "- *Windy*: Indicates whether it is windy or not (True, False).\n",
    "- *Play*: Indicates whether outdoor activities can be played or not (Yes, No).\n",
    "\n",
    "The dataset consists of 14 instances or samples, each representing a different weather scenario. It is a small dataset used to demonstrate the implementation of the Naive Bayes classifier. The goal is to predict the \"Play\" class based on the given weather conditions."
   ]
  },
  {
   "cell_type": "code",
   "execution_count": 4,
   "metadata": {},
   "outputs": [
    {
     "data": {
      "text/html": [
       "<div>\n",
       "<style scoped>\n",
       "    .dataframe tbody tr th:only-of-type {\n",
       "        vertical-align: middle;\n",
       "    }\n",
       "\n",
       "    .dataframe tbody tr th {\n",
       "        vertical-align: top;\n",
       "    }\n",
       "\n",
       "    .dataframe thead th {\n",
       "        text-align: right;\n",
       "    }\n",
       "</style>\n",
       "<table border=\"1\" class=\"dataframe\">\n",
       "  <thead>\n",
       "    <tr style=\"text-align: right;\">\n",
       "      <th></th>\n",
       "      <th>Outlook</th>\n",
       "      <th>Temp</th>\n",
       "      <th>Humidity</th>\n",
       "      <th>Windy</th>\n",
       "      <th>Play</th>\n",
       "    </tr>\n",
       "  </thead>\n",
       "  <tbody>\n",
       "    <tr>\n",
       "      <th>0</th>\n",
       "      <td>Sunny</td>\n",
       "      <td>Hot</td>\n",
       "      <td>High</td>\n",
       "      <td>False</td>\n",
       "      <td>No</td>\n",
       "    </tr>\n",
       "    <tr>\n",
       "      <th>1</th>\n",
       "      <td>Sunny</td>\n",
       "      <td>Hot</td>\n",
       "      <td>High</td>\n",
       "      <td>True</td>\n",
       "      <td>No</td>\n",
       "    </tr>\n",
       "    <tr>\n",
       "      <th>2</th>\n",
       "      <td>Overcast</td>\n",
       "      <td>Hot</td>\n",
       "      <td>High</td>\n",
       "      <td>False</td>\n",
       "      <td>Yes</td>\n",
       "    </tr>\n",
       "    <tr>\n",
       "      <th>3</th>\n",
       "      <td>Rainy</td>\n",
       "      <td>Mild</td>\n",
       "      <td>High</td>\n",
       "      <td>False</td>\n",
       "      <td>Yes</td>\n",
       "    </tr>\n",
       "    <tr>\n",
       "      <th>4</th>\n",
       "      <td>Rainy</td>\n",
       "      <td>Cool</td>\n",
       "      <td>Normal</td>\n",
       "      <td>False</td>\n",
       "      <td>Yes</td>\n",
       "    </tr>\n",
       "    <tr>\n",
       "      <th>5</th>\n",
       "      <td>Rainy</td>\n",
       "      <td>Cool</td>\n",
       "      <td>Normal</td>\n",
       "      <td>True</td>\n",
       "      <td>No</td>\n",
       "    </tr>\n",
       "    <tr>\n",
       "      <th>6</th>\n",
       "      <td>Overcast</td>\n",
       "      <td>Cool</td>\n",
       "      <td>Normal</td>\n",
       "      <td>True</td>\n",
       "      <td>Yes</td>\n",
       "    </tr>\n",
       "    <tr>\n",
       "      <th>7</th>\n",
       "      <td>Sunny</td>\n",
       "      <td>Mild</td>\n",
       "      <td>High</td>\n",
       "      <td>False</td>\n",
       "      <td>No</td>\n",
       "    </tr>\n",
       "    <tr>\n",
       "      <th>8</th>\n",
       "      <td>Sunny</td>\n",
       "      <td>Cool</td>\n",
       "      <td>Normal</td>\n",
       "      <td>False</td>\n",
       "      <td>Yes</td>\n",
       "    </tr>\n",
       "    <tr>\n",
       "      <th>9</th>\n",
       "      <td>Rainy</td>\n",
       "      <td>Mild</td>\n",
       "      <td>Normal</td>\n",
       "      <td>False</td>\n",
       "      <td>Yes</td>\n",
       "    </tr>\n",
       "    <tr>\n",
       "      <th>10</th>\n",
       "      <td>Sunny</td>\n",
       "      <td>Mild</td>\n",
       "      <td>Normal</td>\n",
       "      <td>True</td>\n",
       "      <td>Yes</td>\n",
       "    </tr>\n",
       "    <tr>\n",
       "      <th>11</th>\n",
       "      <td>Overcast</td>\n",
       "      <td>Mild</td>\n",
       "      <td>High</td>\n",
       "      <td>True</td>\n",
       "      <td>Yes</td>\n",
       "    </tr>\n",
       "    <tr>\n",
       "      <th>12</th>\n",
       "      <td>Overcast</td>\n",
       "      <td>Hot</td>\n",
       "      <td>Normal</td>\n",
       "      <td>False</td>\n",
       "      <td>Yes</td>\n",
       "    </tr>\n",
       "    <tr>\n",
       "      <th>13</th>\n",
       "      <td>Rainy</td>\n",
       "      <td>Mild</td>\n",
       "      <td>High</td>\n",
       "      <td>True</td>\n",
       "      <td>No</td>\n",
       "    </tr>\n",
       "  </tbody>\n",
       "</table>\n",
       "</div>"
      ],
      "text/plain": [
       "     Outlook  Temp Humidity  Windy Play\n",
       "0      Sunny   Hot     High  False   No\n",
       "1      Sunny   Hot     High   True   No\n",
       "2   Overcast   Hot     High  False  Yes\n",
       "3      Rainy  Mild     High  False  Yes\n",
       "4      Rainy  Cool   Normal  False  Yes\n",
       "5      Rainy  Cool   Normal   True   No\n",
       "6   Overcast  Cool   Normal   True  Yes\n",
       "7      Sunny  Mild     High  False   No\n",
       "8      Sunny  Cool   Normal  False  Yes\n",
       "9      Rainy  Mild   Normal  False  Yes\n",
       "10     Sunny  Mild   Normal   True  Yes\n",
       "11  Overcast  Mild     High   True  Yes\n",
       "12  Overcast   Hot   Normal  False  Yes\n",
       "13     Rainy  Mild     High   True   No"
      ]
     },
     "execution_count": 4,
     "metadata": {},
     "output_type": "execute_result"
    }
   ],
   "source": [
    "df = pd.read_csv('./data/dataset.csv')\n",
    "df"
   ]
  },
  {
   "attachments": {},
   "cell_type": "markdown",
   "metadata": {},
   "source": [
    "X contains all the columns except the 'Play' column, while y contains only the 'Play' column. This division allows us to train a machine learning model to predict the target variable based on the provided features."
   ]
  },
  {
   "cell_type": "code",
   "execution_count": 5,
   "metadata": {},
   "outputs": [],
   "source": [
    "X_train = df.drop('Play', axis=1)\n",
    "y_train = df['Play']"
   ]
  },
  {
   "attachments": {},
   "cell_type": "markdown",
   "metadata": {},
   "source": [
    "We create a test dataset. This example is taken from the book and demonstrates how the trained Naive Bayes classifier can predict the outcome based on new, unseen data by using the predict method with the test_df as input."
   ]
  },
  {
   "cell_type": "code",
   "execution_count": 6,
   "metadata": {},
   "outputs": [],
   "source": [
    "test_data = {\n",
    "    'Outlook': ['Sunny'],\n",
    "    'Temp': ['Cool'],\n",
    "    'Humidity': ['High'],\n",
    "    'Windy': [True],\n",
    "    'Play': 'No'\n",
    "}\n",
    "\n",
    "test_df = pd.DataFrame(test_data)\n",
    "\n",
    "X_test = test_df.drop('Play', axis=1)\n",
    "\n"
   ]
  },
  {
   "attachments": {},
   "cell_type": "markdown",
   "metadata": {},
   "source": [
    "We use the Classifier by calling the *fit* function to train the model on the training data and then *predict* to make predictions on new data. It assumes that the features are conditionally independent given the target variable."
   ]
  },
  {
   "cell_type": "code",
   "execution_count": 7,
   "metadata": {},
   "outputs": [],
   "source": [
    "classifier = NaiveBayesClassifier(laplace_smoothing=False)\n",
    "classifier.fit(X_train, y_train)\n",
    "\n",
    "predictions = classifier.predict(X_test)"
   ]
  },
  {
   "cell_type": "code",
   "execution_count": 8,
   "metadata": {},
   "outputs": [
    {
     "name": "stdout",
     "output_type": "stream",
     "text": [
      "Target given all the attributes result:  {'No': 0.02057142857142857, 'Yes': 0.005291005291005291}\n",
      "Predictions: ['No']\n"
     ]
    }
   ],
   "source": [
    "print('Target given all the attributes result: ', classifier.target_given_attribute)\n",
    "print('Predictions:', predictions)"
   ]
  },
  {
   "attachments": {},
   "cell_type": "markdown",
   "metadata": {},
   "source": [
    "This code calculates the accuracy by comparing the actual labels from the 'Play' column of the test_df DataFrame with the predicted labels. The accuracy value is then printed."
   ]
  },
  {
   "cell_type": "code",
   "execution_count": 9,
   "metadata": {},
   "outputs": [
    {
     "name": "stdout",
     "output_type": "stream",
     "text": [
      "Accuracy: 1.0\n"
     ]
    }
   ],
   "source": [
    "actual_labels = test_df['Play'].tolist()\n",
    "predicted_labels = predictions\n",
    "\n",
    "accuracy = calculate_accuracy(actual_labels, predicted_labels)\n",
    "print('Accuracy:', accuracy)\n"
   ]
  },
  {
   "attachments": {},
   "cell_type": "markdown",
   "metadata": {},
   "source": [
    "#### Dataset 1"
   ]
  },
  {
   "attachments": {},
   "cell_type": "markdown",
   "metadata": {},
   "source": [
    "The dataset includes three columns:\n",
    "\n",
    "- *Glucose*: Represents the measured glucose levels of individuals.\n",
    "- *Blood Pressure*: Contains recorded blood pressure measurements of individuals.\n",
    "- *Diabetes*: Indicates whether an individual has diabetes (0 for no, 1 for yes).\n",
    "\n",
    "The dataset contains 3 columns and 995 records."
   ]
  },
  {
   "cell_type": "code",
   "execution_count": 10,
   "metadata": {},
   "outputs": [
    {
     "data": {
      "text/html": [
       "<div>\n",
       "<style scoped>\n",
       "    .dataframe tbody tr th:only-of-type {\n",
       "        vertical-align: middle;\n",
       "    }\n",
       "\n",
       "    .dataframe tbody tr th {\n",
       "        vertical-align: top;\n",
       "    }\n",
       "\n",
       "    .dataframe thead th {\n",
       "        text-align: right;\n",
       "    }\n",
       "</style>\n",
       "<table border=\"1\" class=\"dataframe\">\n",
       "  <thead>\n",
       "    <tr style=\"text-align: right;\">\n",
       "      <th></th>\n",
       "      <th>glucose</th>\n",
       "      <th>bloodpressure</th>\n",
       "      <th>diabetes</th>\n",
       "    </tr>\n",
       "  </thead>\n",
       "  <tbody>\n",
       "    <tr>\n",
       "      <th>0</th>\n",
       "      <td>40</td>\n",
       "      <td>85</td>\n",
       "      <td>0</td>\n",
       "    </tr>\n",
       "    <tr>\n",
       "      <th>1</th>\n",
       "      <td>40</td>\n",
       "      <td>92</td>\n",
       "      <td>0</td>\n",
       "    </tr>\n",
       "    <tr>\n",
       "      <th>2</th>\n",
       "      <td>45</td>\n",
       "      <td>63</td>\n",
       "      <td>1</td>\n",
       "    </tr>\n",
       "    <tr>\n",
       "      <th>3</th>\n",
       "      <td>45</td>\n",
       "      <td>80</td>\n",
       "      <td>0</td>\n",
       "    </tr>\n",
       "    <tr>\n",
       "      <th>4</th>\n",
       "      <td>40</td>\n",
       "      <td>73</td>\n",
       "      <td>1</td>\n",
       "    </tr>\n",
       "    <tr>\n",
       "      <th>...</th>\n",
       "      <td>...</td>\n",
       "      <td>...</td>\n",
       "      <td>...</td>\n",
       "    </tr>\n",
       "    <tr>\n",
       "      <th>990</th>\n",
       "      <td>45</td>\n",
       "      <td>87</td>\n",
       "      <td>0</td>\n",
       "    </tr>\n",
       "    <tr>\n",
       "      <th>991</th>\n",
       "      <td>40</td>\n",
       "      <td>83</td>\n",
       "      <td>0</td>\n",
       "    </tr>\n",
       "    <tr>\n",
       "      <th>992</th>\n",
       "      <td>40</td>\n",
       "      <td>83</td>\n",
       "      <td>0</td>\n",
       "    </tr>\n",
       "    <tr>\n",
       "      <th>993</th>\n",
       "      <td>40</td>\n",
       "      <td>60</td>\n",
       "      <td>1</td>\n",
       "    </tr>\n",
       "    <tr>\n",
       "      <th>994</th>\n",
       "      <td>45</td>\n",
       "      <td>82</td>\n",
       "      <td>0</td>\n",
       "    </tr>\n",
       "  </tbody>\n",
       "</table>\n",
       "<p>995 rows × 3 columns</p>\n",
       "</div>"
      ],
      "text/plain": [
       "     glucose  bloodpressure  diabetes\n",
       "0         40             85         0\n",
       "1         40             92         0\n",
       "2         45             63         1\n",
       "3         45             80         0\n",
       "4         40             73         1\n",
       "..       ...            ...       ...\n",
       "990       45             87         0\n",
       "991       40             83         0\n",
       "992       40             83         0\n",
       "993       40             60         1\n",
       "994       45             82         0\n",
       "\n",
       "[995 rows x 3 columns]"
      ]
     },
     "execution_count": 10,
     "metadata": {},
     "output_type": "execute_result"
    }
   ],
   "source": [
    "DiabetesPredictionDF = pd.read_csv('./data/diabetes.csv')\n",
    "DiabetesPredictionDF\n"
   ]
  },
  {
   "attachments": {},
   "cell_type": "markdown",
   "metadata": {},
   "source": [
    "##### Data Preprocessing\n",
    "\n",
    "1. Target Mapping -  This mapping provides a more descriptive representation of the diabetes status in the dataset. The 0 and 1 will throw error in the implemented code for Naive Bayes."
   ]
  },
  {
   "cell_type": "code",
   "execution_count": 11,
   "metadata": {},
   "outputs": [],
   "source": [
    "diabetes_mapping = {0: \"no\", 1: \"yes\"}\n",
    "DiabetesPredictionDF[\"diabetes\"] = DiabetesPredictionDF[\"diabetes\"].map(diabetes_mapping)"
   ]
  },
  {
   "attachments": {},
   "cell_type": "markdown",
   "metadata": {},
   "source": [
    "2. Binning - Binning was used to convert continuous variables into categories, making the data easier to understand and analyze."
   ]
  },
  {
   "cell_type": "code",
   "execution_count": 12,
   "metadata": {},
   "outputs": [],
   "source": [
    "glucose_bins = [0, 80, 100, 125, float('inf')]\n",
    "glucose_labels = ['low', 'normal', 'pre-diabetic', 'diabetic']\n",
    "\n",
    "DiabetesPredictionDF['glucose'] = pd.cut(DiabetesPredictionDF['glucose'], bins=glucose_bins, labels=glucose_labels)\n",
    "\n",
    "bloodpressure_bins = [0, 80, 90, 120, float('inf')]\n",
    "bloodpressure_labels = ['normal', 'elevated', 'high', 'very high']\n",
    "\n",
    "DiabetesPredictionDF['bloodpressure'] = pd.cut(DiabetesPredictionDF['bloodpressure'], bins=bloodpressure_bins, labels=bloodpressure_labels)\n",
    "\n"
   ]
  },
  {
   "attachments": {},
   "cell_type": "markdown",
   "metadata": {},
   "source": [
    "##### Model Training"
   ]
  },
  {
   "cell_type": "code",
   "execution_count": 13,
   "metadata": {},
   "outputs": [],
   "source": [
    "X_2 = DiabetesPredictionDF.drop(\"diabetes\", axis=1)  \n",
    "y_2 = DiabetesPredictionDF[\"diabetes\"]  \n",
    "\n",
    "X_2_train, X_2_test, y_2_train, y_2_test = train_test_split(X_2, y_2, test_size=0.2, random_state=42)\n"
   ]
  },
  {
   "cell_type": "code",
   "execution_count": 14,
   "metadata": {},
   "outputs": [],
   "source": [
    "classifier_2 = NaiveBayesClassifier()\n",
    "classifier_2.fit(X_2_train, y_2_train)"
   ]
  },
  {
   "attachments": {},
   "cell_type": "markdown",
   "metadata": {},
   "source": [
    "##### Model Testing"
   ]
  },
  {
   "cell_type": "code",
   "execution_count": 15,
   "metadata": {},
   "outputs": [],
   "source": [
    "predictions = classifier_2.predict(X_2_test)"
   ]
  },
  {
   "cell_type": "code",
   "execution_count": 16,
   "metadata": {},
   "outputs": [
    {
     "name": "stdout",
     "output_type": "stream",
     "text": [
      "Accuracy: 0.8341708542713567\n"
     ]
    }
   ],
   "source": [
    "actual_labels = y_2_test.tolist()\n",
    "predicted_labels = predictions\n",
    "\n",
    "accuracy = calculate_accuracy(actual_labels, predicted_labels)\n",
    "print('Accuracy:', accuracy)"
   ]
  },
  {
   "attachments": {},
   "cell_type": "markdown",
   "metadata": {},
   "source": [
    "#### Dataset 2"
   ]
  },
  {
   "attachments": {},
   "cell_type": "markdown",
   "metadata": {},
   "source": [
    "The dataset contains information about job-related attributes and salary details. Here's a revised description of each attribute:\n",
    "\n",
    "- *work_year*: Represents the specific year(s) in which individuals have been employed, such as 2022, 2023, and so on.\n",
    "- *experience_level*: Indicates the level of experience of individuals, such as entry-level, mid-level, or senior-level.\n",
    "- *employment_type*: Specifies the type of employment, such as full-time, part-time, or contract.\n",
    "- *job_title*: Refers to the job title or position held by individuals.\n",
    "- *salary*: Represents the salary amount earned by individuals.\n",
    "- *salary_currency*: Indicates the currency in which the salary is recorded.\n",
    "- *salary_in_usd*: Represents the salary amount converted to US dollars (USD) for standardized comparison.\n",
    "- *employee_residence*: Specifies the location of the employee's residence.\n",
    "- *remote_ratio*: Indicates the ratio or percentage of remote work offered in the job.\n",
    "- *company_location*: Refers to the location of the company or organization.\n",
    "- *company_size*: Indicates the size of the company, such as small, medium, or large.\n",
    "\n",
    "The dataset has 11 columns and 3755 records. "
   ]
  },
  {
   "cell_type": "code",
   "execution_count": 17,
   "metadata": {},
   "outputs": [
    {
     "data": {
      "text/html": [
       "<div>\n",
       "<style scoped>\n",
       "    .dataframe tbody tr th:only-of-type {\n",
       "        vertical-align: middle;\n",
       "    }\n",
       "\n",
       "    .dataframe tbody tr th {\n",
       "        vertical-align: top;\n",
       "    }\n",
       "\n",
       "    .dataframe thead th {\n",
       "        text-align: right;\n",
       "    }\n",
       "</style>\n",
       "<table border=\"1\" class=\"dataframe\">\n",
       "  <thead>\n",
       "    <tr style=\"text-align: right;\">\n",
       "      <th></th>\n",
       "      <th>work_year</th>\n",
       "      <th>experience_level</th>\n",
       "      <th>employment_type</th>\n",
       "      <th>job_title</th>\n",
       "      <th>salary</th>\n",
       "      <th>salary_currency</th>\n",
       "      <th>salary_in_usd</th>\n",
       "      <th>employee_residence</th>\n",
       "      <th>remote_ratio</th>\n",
       "      <th>company_location</th>\n",
       "      <th>company_size</th>\n",
       "    </tr>\n",
       "  </thead>\n",
       "  <tbody>\n",
       "    <tr>\n",
       "      <th>0</th>\n",
       "      <td>2023</td>\n",
       "      <td>SE</td>\n",
       "      <td>FT</td>\n",
       "      <td>Principal Data Scientist</td>\n",
       "      <td>80000</td>\n",
       "      <td>EUR</td>\n",
       "      <td>85847</td>\n",
       "      <td>ES</td>\n",
       "      <td>100</td>\n",
       "      <td>ES</td>\n",
       "      <td>L</td>\n",
       "    </tr>\n",
       "    <tr>\n",
       "      <th>1</th>\n",
       "      <td>2023</td>\n",
       "      <td>MI</td>\n",
       "      <td>CT</td>\n",
       "      <td>ML Engineer</td>\n",
       "      <td>30000</td>\n",
       "      <td>USD</td>\n",
       "      <td>30000</td>\n",
       "      <td>US</td>\n",
       "      <td>100</td>\n",
       "      <td>US</td>\n",
       "      <td>S</td>\n",
       "    </tr>\n",
       "    <tr>\n",
       "      <th>2</th>\n",
       "      <td>2023</td>\n",
       "      <td>MI</td>\n",
       "      <td>CT</td>\n",
       "      <td>ML Engineer</td>\n",
       "      <td>25500</td>\n",
       "      <td>USD</td>\n",
       "      <td>25500</td>\n",
       "      <td>US</td>\n",
       "      <td>100</td>\n",
       "      <td>US</td>\n",
       "      <td>S</td>\n",
       "    </tr>\n",
       "    <tr>\n",
       "      <th>3</th>\n",
       "      <td>2023</td>\n",
       "      <td>SE</td>\n",
       "      <td>FT</td>\n",
       "      <td>Data Scientist</td>\n",
       "      <td>175000</td>\n",
       "      <td>USD</td>\n",
       "      <td>175000</td>\n",
       "      <td>CA</td>\n",
       "      <td>100</td>\n",
       "      <td>CA</td>\n",
       "      <td>M</td>\n",
       "    </tr>\n",
       "    <tr>\n",
       "      <th>4</th>\n",
       "      <td>2023</td>\n",
       "      <td>SE</td>\n",
       "      <td>FT</td>\n",
       "      <td>Data Scientist</td>\n",
       "      <td>120000</td>\n",
       "      <td>USD</td>\n",
       "      <td>120000</td>\n",
       "      <td>CA</td>\n",
       "      <td>100</td>\n",
       "      <td>CA</td>\n",
       "      <td>M</td>\n",
       "    </tr>\n",
       "    <tr>\n",
       "      <th>...</th>\n",
       "      <td>...</td>\n",
       "      <td>...</td>\n",
       "      <td>...</td>\n",
       "      <td>...</td>\n",
       "      <td>...</td>\n",
       "      <td>...</td>\n",
       "      <td>...</td>\n",
       "      <td>...</td>\n",
       "      <td>...</td>\n",
       "      <td>...</td>\n",
       "      <td>...</td>\n",
       "    </tr>\n",
       "    <tr>\n",
       "      <th>3750</th>\n",
       "      <td>2020</td>\n",
       "      <td>SE</td>\n",
       "      <td>FT</td>\n",
       "      <td>Data Scientist</td>\n",
       "      <td>412000</td>\n",
       "      <td>USD</td>\n",
       "      <td>412000</td>\n",
       "      <td>US</td>\n",
       "      <td>100</td>\n",
       "      <td>US</td>\n",
       "      <td>L</td>\n",
       "    </tr>\n",
       "    <tr>\n",
       "      <th>3751</th>\n",
       "      <td>2021</td>\n",
       "      <td>MI</td>\n",
       "      <td>FT</td>\n",
       "      <td>Principal Data Scientist</td>\n",
       "      <td>151000</td>\n",
       "      <td>USD</td>\n",
       "      <td>151000</td>\n",
       "      <td>US</td>\n",
       "      <td>100</td>\n",
       "      <td>US</td>\n",
       "      <td>L</td>\n",
       "    </tr>\n",
       "    <tr>\n",
       "      <th>3752</th>\n",
       "      <td>2020</td>\n",
       "      <td>EN</td>\n",
       "      <td>FT</td>\n",
       "      <td>Data Scientist</td>\n",
       "      <td>105000</td>\n",
       "      <td>USD</td>\n",
       "      <td>105000</td>\n",
       "      <td>US</td>\n",
       "      <td>100</td>\n",
       "      <td>US</td>\n",
       "      <td>S</td>\n",
       "    </tr>\n",
       "    <tr>\n",
       "      <th>3753</th>\n",
       "      <td>2020</td>\n",
       "      <td>EN</td>\n",
       "      <td>CT</td>\n",
       "      <td>Business Data Analyst</td>\n",
       "      <td>100000</td>\n",
       "      <td>USD</td>\n",
       "      <td>100000</td>\n",
       "      <td>US</td>\n",
       "      <td>100</td>\n",
       "      <td>US</td>\n",
       "      <td>L</td>\n",
       "    </tr>\n",
       "    <tr>\n",
       "      <th>3754</th>\n",
       "      <td>2021</td>\n",
       "      <td>SE</td>\n",
       "      <td>FT</td>\n",
       "      <td>Data Science Manager</td>\n",
       "      <td>7000000</td>\n",
       "      <td>INR</td>\n",
       "      <td>94665</td>\n",
       "      <td>IN</td>\n",
       "      <td>50</td>\n",
       "      <td>IN</td>\n",
       "      <td>L</td>\n",
       "    </tr>\n",
       "  </tbody>\n",
       "</table>\n",
       "<p>3755 rows × 11 columns</p>\n",
       "</div>"
      ],
      "text/plain": [
       "      work_year experience_level employment_type                 job_title  \\\n",
       "0          2023               SE              FT  Principal Data Scientist   \n",
       "1          2023               MI              CT               ML Engineer   \n",
       "2          2023               MI              CT               ML Engineer   \n",
       "3          2023               SE              FT            Data Scientist   \n",
       "4          2023               SE              FT            Data Scientist   \n",
       "...         ...              ...             ...                       ...   \n",
       "3750       2020               SE              FT            Data Scientist   \n",
       "3751       2021               MI              FT  Principal Data Scientist   \n",
       "3752       2020               EN              FT            Data Scientist   \n",
       "3753       2020               EN              CT     Business Data Analyst   \n",
       "3754       2021               SE              FT      Data Science Manager   \n",
       "\n",
       "       salary salary_currency  salary_in_usd employee_residence  remote_ratio  \\\n",
       "0       80000             EUR          85847                 ES           100   \n",
       "1       30000             USD          30000                 US           100   \n",
       "2       25500             USD          25500                 US           100   \n",
       "3      175000             USD         175000                 CA           100   \n",
       "4      120000             USD         120000                 CA           100   \n",
       "...       ...             ...            ...                ...           ...   \n",
       "3750   412000             USD         412000                 US           100   \n",
       "3751   151000             USD         151000                 US           100   \n",
       "3752   105000             USD         105000                 US           100   \n",
       "3753   100000             USD         100000                 US           100   \n",
       "3754  7000000             INR          94665                 IN            50   \n",
       "\n",
       "     company_location company_size  \n",
       "0                  ES            L  \n",
       "1                  US            S  \n",
       "2                  US            S  \n",
       "3                  CA            M  \n",
       "4                  CA            M  \n",
       "...               ...          ...  \n",
       "3750               US            L  \n",
       "3751               US            L  \n",
       "3752               US            S  \n",
       "3753               US            L  \n",
       "3754               IN            L  \n",
       "\n",
       "[3755 rows x 11 columns]"
      ]
     },
     "execution_count": 17,
     "metadata": {},
     "output_type": "execute_result"
    }
   ],
   "source": [
    "DataScienceSalariesDF = pd.read_csv('./data/ds_salaries.csv')\n",
    "DataScienceSalariesDF"
   ]
  },
  {
   "attachments": {},
   "cell_type": "markdown",
   "metadata": {},
   "source": [
    "##### Data Preprocessing\n",
    "\n",
    "1. We drop salary and salary currency because this column is more accurately summed up in the *salary_in_usd* column. "
   ]
  },
  {
   "cell_type": "code",
   "execution_count": 18,
   "metadata": {},
   "outputs": [],
   "source": [
    "columns_to_drop = ['salary', 'salary_currency']\n",
    "DataScienceSalariesDF = DataScienceSalariesDF.drop(columns=columns_to_drop)"
   ]
  },
  {
   "attachments": {},
   "cell_type": "markdown",
   "metadata": {},
   "source": [
    "2. We apply binning to the target class because the values are continuous. "
   ]
  },
  {
   "cell_type": "code",
   "execution_count": 19,
   "metadata": {},
   "outputs": [],
   "source": [
    "salary_bins = [0, 50000, 75000, 100000, 125000, 150000, float('inf')]\n",
    "salary_labels = ['<50k', '50k-75k', '75k-100k', '100k-125k', '125k-150k', '>150k']\n",
    "\n",
    "DataScienceSalariesDF['salary_in_usd'] = pd.cut(DataScienceSalariesDF['salary_in_usd'], bins=salary_bins, labels=salary_labels)\n"
   ]
  },
  {
   "attachments": {},
   "cell_type": "markdown",
   "metadata": {},
   "source": [
    "##### Model Training"
   ]
  },
  {
   "cell_type": "code",
   "execution_count": 20,
   "metadata": {},
   "outputs": [],
   "source": [
    "X_3 = DataScienceSalariesDF.drop('salary_in_usd', axis=1)  \n",
    "y_3 = DataScienceSalariesDF['salary_in_usd']  \n",
    "\n",
    "X_3_train, X_3_test, y_3_train, y_3_test = train_test_split(X_3, y_3, test_size=0.2, random_state=42)"
   ]
  },
  {
   "cell_type": "code",
   "execution_count": 21,
   "metadata": {},
   "outputs": [],
   "source": [
    "classifier_3 = NaiveBayesClassifier()\n",
    "classifier_3.fit(X_3_train, y_3_train)"
   ]
  },
  {
   "attachments": {},
   "cell_type": "markdown",
   "metadata": {},
   "source": [
    "##### Model Testing"
   ]
  },
  {
   "cell_type": "code",
   "execution_count": 22,
   "metadata": {},
   "outputs": [],
   "source": [
    "predictions = classifier_3.predict(X_3_test)"
   ]
  },
  {
   "cell_type": "code",
   "execution_count": 23,
   "metadata": {},
   "outputs": [
    {
     "name": "stdout",
     "output_type": "stream",
     "text": [
      "Accuracy: 0.3262316910785619\n"
     ]
    }
   ],
   "source": [
    "actual_labels = y_3_test.tolist()\n",
    "predicted_labels = predictions\n",
    "\n",
    "accuracy = calculate_accuracy(actual_labels, predicted_labels)\n",
    "print('Accuracy:', accuracy)"
   ]
  }
 ],
 "metadata": {
  "kernelspec": {
   "display_name": "Python 3",
   "language": "python",
   "name": "python3"
  },
  "language_info": {
   "codemirror_mode": {
    "name": "ipython",
    "version": 3
   },
   "file_extension": ".py",
   "mimetype": "text/x-python",
   "name": "python",
   "nbconvert_exporter": "python",
   "pygments_lexer": "ipython3",
   "version": "3.11.0"
  },
  "orig_nbformat": 4
 },
 "nbformat": 4,
 "nbformat_minor": 2
}
